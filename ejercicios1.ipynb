{
 "cells": [
  {
   "cell_type": "markdown",
   "metadata": {},
   "source": [
    "Asignación de Python M2C3\n",
    "\n",
    "Durante la primera sección del Módulo 2, aprendió todo sobre Python. Python es un poderoso lenguaje de programación que sirve para muchos propósitos. Para practicar lo que ha aprendido en esta sección, completará algunos ejercicios de Python. Puede utilizar Visual Studio Code, Repl.it u otro entorno/editor de texto de su elección. Complete la siguiente tarea y comuníquese con la aplicación de soporte para que un mentor revise su trabajo. Si tiene alguna pregunta o necesita ayuda, comuníquese con nosotros para que podamos ayudarlo. Esta tarea debe completarse para aprobar esta sección del trabajo del curso.\n"
   ]
  },
  {
   "cell_type": "markdown",
   "metadata": {},
   "source": [
    "Ejercicio 1: \n",
    "    Cree una cadena, un número, una lista y un valor booleano, cada uno almacenado en su propia variable."
   ]
  },
  {
   "cell_type": "code",
   "execution_count": 2,
   "metadata": {},
   "outputs": [
    {
     "name": "stdout",
     "output_type": "stream",
     "text": [
      "Jordan Hudgens 21 Python, HTML, SCSS True\n"
     ]
    }
   ],
   "source": [
    "alumno = \"Jordan Hudgens\"\n",
    "age = 21 \n",
    "cursos_realizados = [\"Python, HTML, SCSS\"]\n",
    "estudiante = True\n",
    "\n",
    "print (alumno, age, cursos_realizados, estudiante)"
   ]
  },
  {
   "cell_type": "markdown",
   "metadata": {},
   "source": [
    "Ejercicio 2: \n",
    "    Utilice un índice para tomar las primeras 3 letras de su cadena y guárdelas en una variable"
   ]
  },
  {
   "cell_type": "code",
   "execution_count": 3,
   "metadata": {},
   "outputs": [
    {
     "name": "stdout",
     "output_type": "stream",
     "text": [
      "Jor\n"
     ]
    }
   ],
   "source": [
    "alumno_nik = alumno[:3]\n",
    "print (alumno_nik)"
   ]
  },
  {
   "cell_type": "markdown",
   "metadata": {},
   "source": [
    "Ejercicio 3: \n",
    "    Utilice un índice para tomar el primer elemento de su lista.\n"
   ]
  },
  {
   "cell_type": "code",
   "execution_count": 11,
   "metadata": {},
   "outputs": [
    {
     "name": "stdout",
     "output_type": "stream",
     "text": [
      "6\n",
      "Python\n"
     ]
    }
   ],
   "source": [
    "primer_curso = cursos_realizados.index(\",\")\n",
    "print (primer_curso)\n",
    "primer_curso = cursos_realizados[ :6]\n",
    "print (primer_curso)\n"
   ]
  },
  {
   "cell_type": "markdown",
   "metadata": {},
   "source": [
    "Ejercicio 4: \n",
    "    Crea una nueva variable numérica que sume 10 a tu número original.\n"
   ]
  },
  {
   "cell_type": "code",
   "execution_count": 5,
   "metadata": {},
   "outputs": [
    {
     "name": "stdout",
     "output_type": "stream",
     "text": [
      "31\n"
     ]
    }
   ],
   "source": [
    "age_final = age + 10\n",
    "print (age_final)"
   ]
  },
  {
   "cell_type": "markdown",
   "metadata": {},
   "source": [
    "Ejercicio 5: \n",
    "    Utilice un índice para obtener el último elemento de su lista"
   ]
  },
  {
   "cell_type": "code",
   "execution_count": 6,
   "metadata": {},
   "outputs": [
    {
     "name": "stdout",
     "output_type": "stream",
     "text": [
      "SCSS\n"
     ]
    }
   ],
   "source": [
    "ultimo_curso = cursos_realizados[-4:]\n",
    "print (ultimo_curso)"
   ]
  },
  {
   "cell_type": "markdown",
   "metadata": {},
   "source": [
    "Ejercicio 6: \n",
    "    Utilice dividir para transformar la siguiente cadena en una lista.\n",
    "\t        nombres = 'harry,alex,susie,jared,gail,conner'\n"
   ]
  },
  {
   "cell_type": "code",
   "execution_count": 7,
   "metadata": {},
   "outputs": [
    {
     "name": "stdout",
     "output_type": "stream",
     "text": [
      "['harry', 'alex', 'susie', 'jared', 'gail', 'conner']\n"
     ]
    }
   ],
   "source": [
    "nombres = 'harry,alex,susie,jared,gail,conner'\n",
    "nombres_unicos = nombres.split (\",\")\n",
    "print (nombres_unicos)"
   ]
  },
  {
   "cell_type": "markdown",
   "metadata": {},
   "source": [
    "Ejercicio 7: \n",
    "    Obtenga la primera palabra de su cadena usando índices. Utilice la función superior para transformar las letras en mayúsculas. Cree una nueva cadena que tome la palabra en mayúscula y el resto de la cadena original."
   ]
  },
  {
   "cell_type": "code",
   "execution_count": 8,
   "metadata": {},
   "outputs": [
    {
     "name": "stdout",
     "output_type": "stream",
     "text": [
      "HARRY\n",
      "HARRY,alex,susie,jared,gail,conner\n"
     ]
    }
   ],
   "source": [
    "primer_palabra = nombres_unicos[0].upper()\n",
    "print (primer_palabra)\n",
    "nombre_mayusculas = nombres.replace(\"harry\", primer_palabra)\n",
    "print (nombre_mayusculas)"
   ]
  },
  {
   "cell_type": "markdown",
   "metadata": {},
   "source": [
    "Ejercicio 8: \n",
    "    Utilice la interpolación de cadenas para imprimir una oración que contenga su variable numérica."
   ]
  },
  {
   "cell_type": "code",
   "execution_count": 9,
   "metadata": {},
   "outputs": [
    {
     "name": "stdout",
     "output_type": "stream",
     "text": [
      "Feliz 21 cumpleaños, Jordan Hudgens !!!\n"
     ]
    }
   ],
   "source": [
    "bithday = f\"Feliz {age} cumpleaños, {alumno} !!!\"\n",
    "print(bithday)"
   ]
  },
  {
   "cell_type": "markdown",
   "metadata": {},
   "source": [
    "Ejercicio 9: \n",
    "    Imprime \"hola mundo\"."
   ]
  },
  {
   "cell_type": "code",
   "execution_count": 10,
   "metadata": {},
   "outputs": [
    {
     "name": "stdout",
     "output_type": "stream",
     "text": [
      "hola mundo\n"
     ]
    }
   ],
   "source": [
    "print (\"hola mundo\")"
   ]
  }
 ],
 "metadata": {
  "kernelspec": {
   "display_name": "Python 3",
   "language": "python",
   "name": "python3"
  },
  "language_info": {
   "codemirror_mode": {
    "name": "ipython",
    "version": 3
   },
   "file_extension": ".py",
   "mimetype": "text/x-python",
   "name": "python",
   "nbconvert_exporter": "python",
   "pygments_lexer": "ipython3",
   "version": "3.12.2"
  }
 },
 "nbformat": 4,
 "nbformat_minor": 2
}
