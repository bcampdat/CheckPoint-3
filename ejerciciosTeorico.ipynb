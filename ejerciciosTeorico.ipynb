{
 "cells": [
  {
   "cell_type": "markdown",
   "metadata": {},
   "source": [
    "                                Preguntas Teoricas"
   ]
  },
  {
   "cell_type": "markdown",
   "metadata": {},
   "source": [
    "1. ¿Cuáles son los 4 tipos de datos en Python?\n",
    "\n",
    "    String    (cadena de texto) \n",
    "    Booleano  (valor verdadero o falso)\n",
    "    númerico  (numeros)\n",
    "    lista     (conjunto de datos)"
   ]
  },
  {
   "cell_type": "markdown",
   "metadata": {},
   "source": [
    "2. ¿Qué tipo de convención de nomenclatura debemos usar para las variables en Python?\n",
    "\n",
    "    Se usa en minúsculas y si es mas de una palabra separadas por un guión bajo, lo que se denomina snake_case (serpiente)\n",
    "        ej:  \n",
    "            name = \"Jordan\"\n",
    "            nombre_completo = \"Jordan Hudgnes\""
   ]
  },
  {
   "cell_type": "markdown",
   "metadata": {},
   "source": [
    "3. ¿Qué es un heredoc de Python?\n",
    "        Es la forma que permite añadir párrafos dentro del código mediante el uso de la variable content = \"\"\".....................................\"\"\" y comillas triples ( cadena multilinea )"
   ]
  },
  {
   "cell_type": "markdown",
   "metadata": {},
   "source": [
    "4. ¿Qué es la interpolación de cadenas?\n",
    "\n",
    "        Es la forma que nos permite unir varias cadenas de texto y además nos permite introducir variables dentro de la cadena.\n",
    "        De este modo podemos rellenar un texto con nuestras variables\n",
    "\n",
    "        ej:\n",
    "        \n",
    "        variable           nombre = \"Jordan\"\n",
    "        interpolación      saludo = f\"Hi {nombre}\"\n",
    "        resultado          print (saludo)          * Hi Jordan\n"
   ]
  },
  {
   "cell_type": "markdown",
   "metadata": {},
   "source": [
    "5. ¿Cuándo debemos usar comentarios en Python?\n",
    "\n",
    "        Cuando aquellos estan destinados a referenciar el codigo para aclaraciones o para identificar su función o para desactivar códigos de prueba \n",
    "        Es importante que si es excesivo puede dificultar entender el codigo "
   ]
  },
  {
   "cell_type": "markdown",
   "metadata": {},
   "source": [
    "6. ¿Cuáles son las diferencias entre las aplicaciones monolíticas y de microservicios\n",
    "\n",
    "        Monoliticas :  son aquellas aplicaciones que tienen todo el código necesario para funcionar en una única unidad  \n",
    "        Microservicios: son aquellas aplicaciones que tienen todo el código necesario para funcionar en varias unidades independientes con un fin determinado\n",
    "\n",
    "    diferencias:  las monolíticas son ideales para proyectos pequeños en un inicio, son\n",
    "                    muy específicas por lo que cualquier cambio afectará a toda la app.\n",
    "\n",
    "                  los microservicios son mas complejos aparentemente pero tambien son\n",
    "                    independientes lo que permite realizar cambios en el futuro si afectar a la app, lo que nos dejará ampliarla y cambiar su funciones mas libremente; también son mas caros por lo que se suele usar en app mas complejas o extensas. \n",
    "\n"
   ]
  }
 ],
 "metadata": {
  "language_info": {
   "name": "python"
  }
 },
 "nbformat": 4,
 "nbformat_minor": 2
}
